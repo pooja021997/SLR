{
 "cells": [
  {
   "cell_type": "code",
   "execution_count": 26,
   "id": "82702f59",
   "metadata": {},
   "outputs": [],
   "source": [
    "import pandas as pd\n",
    "import numpy as np\n",
    "import seaborn as sns\n",
    "import statsmodels.formula.api as smf\n",
    "import matplotlib.pyplot as plt"
   ]
  },
  {
   "cell_type": "code",
   "execution_count": 27,
   "id": "81f84a9f",
   "metadata": {},
   "outputs": [],
   "source": [
    "data=pd.read_csv(r'C:\\users\\user\\Downloads\\Salary_Data.csv')"
   ]
  },
  {
   "cell_type": "code",
   "execution_count": 28,
   "id": "bbe64029",
   "metadata": {},
   "outputs": [
    {
     "data": {
      "text/html": [
       "<div>\n",
       "<style scoped>\n",
       "    .dataframe tbody tr th:only-of-type {\n",
       "        vertical-align: middle;\n",
       "    }\n",
       "\n",
       "    .dataframe tbody tr th {\n",
       "        vertical-align: top;\n",
       "    }\n",
       "\n",
       "    .dataframe thead th {\n",
       "        text-align: right;\n",
       "    }\n",
       "</style>\n",
       "<table border=\"1\" class=\"dataframe\">\n",
       "  <thead>\n",
       "    <tr style=\"text-align: right;\">\n",
       "      <th></th>\n",
       "      <th>YearsExperience</th>\n",
       "      <th>Salary</th>\n",
       "    </tr>\n",
       "  </thead>\n",
       "  <tbody>\n",
       "    <tr>\n",
       "      <th>0</th>\n",
       "      <td>1.1</td>\n",
       "      <td>39343.0</td>\n",
       "    </tr>\n",
       "    <tr>\n",
       "      <th>1</th>\n",
       "      <td>1.3</td>\n",
       "      <td>46205.0</td>\n",
       "    </tr>\n",
       "    <tr>\n",
       "      <th>2</th>\n",
       "      <td>1.5</td>\n",
       "      <td>37731.0</td>\n",
       "    </tr>\n",
       "    <tr>\n",
       "      <th>3</th>\n",
       "      <td>2.0</td>\n",
       "      <td>43525.0</td>\n",
       "    </tr>\n",
       "    <tr>\n",
       "      <th>4</th>\n",
       "      <td>2.2</td>\n",
       "      <td>39891.0</td>\n",
       "    </tr>\n",
       "    <tr>\n",
       "      <th>5</th>\n",
       "      <td>2.9</td>\n",
       "      <td>56642.0</td>\n",
       "    </tr>\n",
       "    <tr>\n",
       "      <th>6</th>\n",
       "      <td>3.0</td>\n",
       "      <td>60150.0</td>\n",
       "    </tr>\n",
       "    <tr>\n",
       "      <th>7</th>\n",
       "      <td>3.2</td>\n",
       "      <td>54445.0</td>\n",
       "    </tr>\n",
       "    <tr>\n",
       "      <th>8</th>\n",
       "      <td>3.2</td>\n",
       "      <td>64445.0</td>\n",
       "    </tr>\n",
       "    <tr>\n",
       "      <th>9</th>\n",
       "      <td>3.7</td>\n",
       "      <td>57189.0</td>\n",
       "    </tr>\n",
       "    <tr>\n",
       "      <th>10</th>\n",
       "      <td>3.9</td>\n",
       "      <td>63218.0</td>\n",
       "    </tr>\n",
       "    <tr>\n",
       "      <th>11</th>\n",
       "      <td>4.0</td>\n",
       "      <td>55794.0</td>\n",
       "    </tr>\n",
       "    <tr>\n",
       "      <th>12</th>\n",
       "      <td>4.0</td>\n",
       "      <td>56957.0</td>\n",
       "    </tr>\n",
       "    <tr>\n",
       "      <th>13</th>\n",
       "      <td>4.1</td>\n",
       "      <td>57081.0</td>\n",
       "    </tr>\n",
       "    <tr>\n",
       "      <th>14</th>\n",
       "      <td>4.5</td>\n",
       "      <td>61111.0</td>\n",
       "    </tr>\n",
       "    <tr>\n",
       "      <th>15</th>\n",
       "      <td>4.9</td>\n",
       "      <td>67938.0</td>\n",
       "    </tr>\n",
       "    <tr>\n",
       "      <th>16</th>\n",
       "      <td>5.1</td>\n",
       "      <td>66029.0</td>\n",
       "    </tr>\n",
       "    <tr>\n",
       "      <th>17</th>\n",
       "      <td>5.3</td>\n",
       "      <td>83088.0</td>\n",
       "    </tr>\n",
       "    <tr>\n",
       "      <th>18</th>\n",
       "      <td>5.9</td>\n",
       "      <td>81363.0</td>\n",
       "    </tr>\n",
       "    <tr>\n",
       "      <th>19</th>\n",
       "      <td>6.0</td>\n",
       "      <td>93940.0</td>\n",
       "    </tr>\n",
       "    <tr>\n",
       "      <th>20</th>\n",
       "      <td>6.8</td>\n",
       "      <td>91738.0</td>\n",
       "    </tr>\n",
       "    <tr>\n",
       "      <th>21</th>\n",
       "      <td>7.1</td>\n",
       "      <td>98273.0</td>\n",
       "    </tr>\n",
       "    <tr>\n",
       "      <th>22</th>\n",
       "      <td>7.9</td>\n",
       "      <td>101302.0</td>\n",
       "    </tr>\n",
       "    <tr>\n",
       "      <th>23</th>\n",
       "      <td>8.2</td>\n",
       "      <td>113812.0</td>\n",
       "    </tr>\n",
       "    <tr>\n",
       "      <th>24</th>\n",
       "      <td>8.7</td>\n",
       "      <td>109431.0</td>\n",
       "    </tr>\n",
       "    <tr>\n",
       "      <th>25</th>\n",
       "      <td>9.0</td>\n",
       "      <td>105582.0</td>\n",
       "    </tr>\n",
       "    <tr>\n",
       "      <th>26</th>\n",
       "      <td>9.5</td>\n",
       "      <td>116969.0</td>\n",
       "    </tr>\n",
       "    <tr>\n",
       "      <th>27</th>\n",
       "      <td>9.6</td>\n",
       "      <td>112635.0</td>\n",
       "    </tr>\n",
       "    <tr>\n",
       "      <th>28</th>\n",
       "      <td>10.3</td>\n",
       "      <td>122391.0</td>\n",
       "    </tr>\n",
       "    <tr>\n",
       "      <th>29</th>\n",
       "      <td>10.5</td>\n",
       "      <td>121872.0</td>\n",
       "    </tr>\n",
       "  </tbody>\n",
       "</table>\n",
       "</div>"
      ],
      "text/plain": [
       "    YearsExperience    Salary\n",
       "0               1.1   39343.0\n",
       "1               1.3   46205.0\n",
       "2               1.5   37731.0\n",
       "3               2.0   43525.0\n",
       "4               2.2   39891.0\n",
       "5               2.9   56642.0\n",
       "6               3.0   60150.0\n",
       "7               3.2   54445.0\n",
       "8               3.2   64445.0\n",
       "9               3.7   57189.0\n",
       "10              3.9   63218.0\n",
       "11              4.0   55794.0\n",
       "12              4.0   56957.0\n",
       "13              4.1   57081.0\n",
       "14              4.5   61111.0\n",
       "15              4.9   67938.0\n",
       "16              5.1   66029.0\n",
       "17              5.3   83088.0\n",
       "18              5.9   81363.0\n",
       "19              6.0   93940.0\n",
       "20              6.8   91738.0\n",
       "21              7.1   98273.0\n",
       "22              7.9  101302.0\n",
       "23              8.2  113812.0\n",
       "24              8.7  109431.0\n",
       "25              9.0  105582.0\n",
       "26              9.5  116969.0\n",
       "27              9.6  112635.0\n",
       "28             10.3  122391.0\n",
       "29             10.5  121872.0"
      ]
     },
     "execution_count": 28,
     "metadata": {},
     "output_type": "execute_result"
    }
   ],
   "source": [
    "data"
   ]
  },
  {
   "cell_type": "code",
   "execution_count": 29,
   "id": "38b35450",
   "metadata": {},
   "outputs": [
    {
     "name": "stdout",
     "output_type": "stream",
     "text": [
      "<class 'pandas.core.frame.DataFrame'>\n",
      "RangeIndex: 30 entries, 0 to 29\n",
      "Data columns (total 2 columns):\n",
      " #   Column           Non-Null Count  Dtype  \n",
      "---  ------           --------------  -----  \n",
      " 0   YearsExperience  30 non-null     float64\n",
      " 1   Salary           30 non-null     float64\n",
      "dtypes: float64(2)\n",
      "memory usage: 608.0 bytes\n"
     ]
    }
   ],
   "source": [
    "data.info()"
   ]
  },
  {
   "cell_type": "code",
   "execution_count": 30,
   "id": "170cead2",
   "metadata": {},
   "outputs": [
    {
     "data": {
      "text/plain": [
       "<seaborn.axisgrid.FacetGrid at 0x41b04a820>"
      ]
     },
     "execution_count": 30,
     "metadata": {},
     "output_type": "execute_result"
    },
    {
     "data": {
      "image/png": "[encoded data removed]",
      "text/plain": [
       "<Figure size 360x360 with 1 Axes>"
      ]
     },
     "metadata": {
      "needs_background": "light"
     },
     "output_type": "display_data"
    }
   ],
   "source": [
    "sns.displot(data['YearsExperience'])"
   ]
  },
  {
   "cell_type": "code",
   "execution_count": 31,
   "id": "cbb7e15d",
   "metadata": {},
   "outputs": [
    {
     "name": "stderr",
     "output_type": "stream",
     "text": [
      "E:\\Users\\user\\anaconda3\\lib\\site-packages\\seaborn\\distributions.py:2619: FutureWarning: `distplot` is a deprecated function and will be removed in a future version. Please adapt your code to use either `displot` (a figure-level function with similar flexibility) or `histplot` (an axes-level function for histograms).\n",
      "  warnings.warn(msg, FutureWarning)\n"
     ]
    },
    {
     "data": {
      "text/plain": [
       "<AxesSubplot:xlabel='Salary', ylabel='Density'>"
      ]
     },
     "execution_count": 31,
     "metadata": {},
     "output_type": "execute_result"
    },
    {
     "data": {
      "image/png": "[encoded data removed]",
      "text/plain": [
       "<Figure size 432x288 with 1 Axes>"
      ]
     },
     "metadata": {
      "needs_background": "light"
     },
     "output_type": "display_data"
    }
   ],
   "source": [
    "sns.distplot(data['Salary'])"
   ]
  },
  {
   "cell_type": "code",
   "execution_count": 32,
   "id": "e5e6863b",
   "metadata": {},
   "outputs": [
    {
     "data": {
      "text/html": [
       "<div>\n",
       "<style scoped>\n",
       "    .dataframe tbody tr th:only-of-type {\n",
       "        vertical-align: middle;\n",
       "    }\n",
       "\n",
       "    .dataframe tbody tr th {\n",
       "        vertical-align: top;\n",
       "    }\n",
       "\n",
       "    .dataframe thead th {\n",
       "        text-align: right;\n",
       "    }\n",
       "</style>\n",
       "<table border=\"1\" class=\"dataframe\">\n",
       "  <thead>\n",
       "    <tr style=\"text-align: right;\">\n",
       "      <th></th>\n",
       "      <th>YearsExperience</th>\n",
       "      <th>Salary</th>\n",
       "    </tr>\n",
       "  </thead>\n",
       "  <tbody>\n",
       "    <tr>\n",
       "      <th>YearsExperience</th>\n",
       "      <td>1.000000</td>\n",
       "      <td>0.978242</td>\n",
       "    </tr>\n",
       "    <tr>\n",
       "      <th>Salary</th>\n",
       "      <td>0.978242</td>\n",
       "      <td>1.000000</td>\n",
       "    </tr>\n",
       "  </tbody>\n",
       "</table>\n",
       "</div>"
      ],
      "text/plain": [
       "                 YearsExperience    Salary\n",
       "YearsExperience         1.000000  0.978242\n",
       "Salary                  0.978242  1.000000"
      ]
     },
     "execution_count": 32,
     "metadata": {},
     "output_type": "execute_result"
    }
   ],
   "source": [
    "data.corr()"
   ]
  },
  {
   "cell_type": "code",
   "execution_count": 33,
   "id": "b785b56c",
   "metadata": {},
   "outputs": [
    {
     "data": {
      "text/plain": [
       "<AxesSubplot:xlabel='YearsExperience', ylabel='Salary'>"
      ]
     },
     "execution_count": 33,
     "metadata": {},
     "output_type": "execute_result"
    },
    {
     "data": {
      "image/png": "[encoded data removed]",
      "text/plain": [
       "<Figure size 432x288 with 1 Axes>"
      ]
     },
     "metadata": {
      "needs_background": "light"
     },
     "output_type": "display_data"
    }
   ],
   "source": [
    "sns.regplot(x=data['YearsExperience'],y=data['Salary'])"
   ]
  },
  {
   "cell_type": "code",
   "execution_count": 34,
   "id": "dcb55dc4",
   "metadata": {},
   "outputs": [],
   "source": [
    "model=smf.ols(\"Salary~YearsExperience\",data=data).fit()\n"
   ]
  },
  {
   "cell_type": "code",
   "execution_count": 35,
   "id": "af46f931",
   "metadata": {},
   "outputs": [
    {
     "data": {
      "text/plain": [
       "Intercept          25792.200199\n",
       "YearsExperience     9449.962321\n",
       "dtype: float64"
      ]
     },
     "execution_count": 35,
     "metadata": {},
     "output_type": "execute_result"
    }
   ],
   "source": [
    "model.params"
   ]
  },
  {
   "cell_type": "code",
   "execution_count": 36,
   "id": "e75acec2",
   "metadata": {},
   "outputs": [
    {
     "data": {
      "text/plain": [
       "(Intercept          11.346940\n",
       " YearsExperience    24.950094\n",
       " dtype: float64,\n",
       " Intercept          5.511950e-12\n",
       " YearsExperience    1.143068e-20\n",
       " dtype: float64)"
      ]
     },
     "execution_count": 36,
     "metadata": {},
     "output_type": "execute_result"
    }
   ],
   "source": [
    "model.tvalues,model.pvalues"
   ]
  },
  {
   "cell_type": "code",
   "execution_count": 37,
   "id": "a8e2bc4c",
   "metadata": {},
   "outputs": [
    {
     "data": {
      "text/plain": [
       "(0.9569566641435086, 0.9554194021486339)"
      ]
     },
     "execution_count": 37,
     "metadata": {},
     "output_type": "execute_result"
    }
   ],
   "source": [
    "model.rsquared,model.rsquared_adj"
   ]
  },
  {
   "cell_type": "code",
   "execution_count": 38,
   "id": "5b1b9494",
   "metadata": {},
   "outputs": [
    {
     "data": {
      "text/plain": [
       "54142.087162"
      ]
     },
     "execution_count": 38,
     "metadata": {},
     "output_type": "execute_result"
    }
   ],
   "source": [
    "Salary=(25792.200199) + (9449.962321)*3\n",
    "Salary"
   ]
  },
  {
   "cell_type": "code",
   "execution_count": 39,
   "id": "36301bba",
   "metadata": {},
   "outputs": [
    {
     "data": {
      "text/plain": [
       "0    3\n",
       "1    5\n",
       "dtype: int64"
      ]
     },
     "execution_count": 39,
     "metadata": {},
     "output_type": "execute_result"
    }
   ],
   "source": [
    "new_data=pd.Series([3,5])\n",
    "new_data"
   ]
  },
  {
   "cell_type": "code",
   "execution_count": 40,
   "id": "856cdf9b",
   "metadata": {},
   "outputs": [
    {
     "data": {
      "text/html": [
       "<div>\n",
       "<style scoped>\n",
       "    .dataframe tbody tr th:only-of-type {\n",
       "        vertical-align: middle;\n",
       "    }\n",
       "\n",
       "    .dataframe tbody tr th {\n",
       "        vertical-align: top;\n",
       "    }\n",
       "\n",
       "    .dataframe thead th {\n",
       "        text-align: right;\n",
       "    }\n",
       "</style>\n",
       "<table border=\"1\" class=\"dataframe\">\n",
       "  <thead>\n",
       "    <tr style=\"text-align: right;\">\n",
       "      <th></th>\n",
       "      <th>YearsExperience</th>\n",
       "    </tr>\n",
       "  </thead>\n",
       "  <tbody>\n",
       "    <tr>\n",
       "      <th>0</th>\n",
       "      <td>3</td>\n",
       "    </tr>\n",
       "    <tr>\n",
       "      <th>1</th>\n",
       "      <td>5</td>\n",
       "    </tr>\n",
       "  </tbody>\n",
       "</table>\n",
       "</div>"
      ],
      "text/plain": [
       "   YearsExperience\n",
       "0                3\n",
       "1                5"
      ]
     },
     "execution_count": 40,
     "metadata": {},
     "output_type": "execute_result"
    }
   ],
   "source": [
    "data_pred=pd.DataFrame(new_data,columns=['YearsExperience'])\n",
    "data_pred"
   ]
  },
  {
   "cell_type": "code",
   "execution_count": 41,
   "id": "cd0b2386",
   "metadata": {},
   "outputs": [
    {
     "data": {
      "text/plain": [
       "0    54142.087163\n",
       "1    73042.011806\n",
       "dtype: float64"
      ]
     },
     "execution_count": 41,
     "metadata": {},
     "output_type": "execute_result"
    }
   ],
   "source": [
    "model.predict(data_pred)"
   ]
  },
  {
   "cell_type": "markdown",
   "id": "9feae59c",
   "metadata": {},
   "source": [
    "# Transforming variables for accuracy "
   ]
  },
  {
   "cell_type": "code",
   "execution_count": 42,
   "id": "93b033c9",
   "metadata": {},
   "outputs": [],
   "source": [
    "model2 = smf.ols('Salary~np.log(YearsExperience)',data=data).fit()"
   ]
  },
  {
   "cell_type": "code",
   "execution_count": 43,
   "id": "d1b300f6",
   "metadata": {},
   "outputs": [
    {
     "data": {
      "text/plain": [
       "Intercept                  14927.97177\n",
       "np.log(YearsExperience)    40581.98796\n",
       "dtype: float64"
      ]
     },
     "execution_count": 43,
     "metadata": {},
     "output_type": "execute_result"
    }
   ],
   "source": [
    "model2.params     "
   ]
  },
  {
   "cell_type": "code",
   "execution_count": 44,
   "id": "13cdd8e0",
   "metadata": {},
   "outputs": [
    {
     "data": {
      "text/html": [
       "<table class=\"simpletable\">\n",
       "<caption>OLS Regression Results</caption>\n",
       "<tr>\n",
       "  <th>Dep. Variable:</th>         <td>Salary</td>      <th>  R-squared:         </th> <td>   0.854</td>\n",
       "</tr>\n",
       "<tr>\n",
       "  <th>Model:</th>                   <td>OLS</td>       <th>  Adj. R-squared:    </th> <td>   0.849</td>\n",
       "</tr>\n",
       "<tr>\n",
       "  <th>Method:</th>             <td>Least Squares</td>  <th>  F-statistic:       </th> <td>   163.6</td>\n",
       "</tr>\n",
       "<tr>\n",
       "  <th>Date:</th>             <td>Sat, 24 Sep 2022</td> <th>  Prob (F-statistic):</th> <td>3.25e-13</td>\n",
       "</tr>\n",
       "<tr>\n",
       "  <th>Time:</th>                 <td>16:56:10</td>     <th>  Log-Likelihood:    </th> <td> -319.77</td>\n",
       "</tr>\n",
       "<tr>\n",
       "  <th>No. Observations:</th>      <td>    30</td>      <th>  AIC:               </th> <td>   643.5</td>\n",
       "</tr>\n",
       "<tr>\n",
       "  <th>Df Residuals:</th>          <td>    28</td>      <th>  BIC:               </th> <td>   646.3</td>\n",
       "</tr>\n",
       "<tr>\n",
       "  <th>Df Model:</th>              <td>     1</td>      <th>                     </th>     <td> </td>   \n",
       "</tr>\n",
       "<tr>\n",
       "  <th>Covariance Type:</th>      <td>nonrobust</td>    <th>                     </th>     <td> </td>   \n",
       "</tr>\n",
       "</table>\n",
       "<table class=\"simpletable\">\n",
       "<tr>\n",
       "             <td></td>                <th>coef</th>     <th>std err</th>      <th>t</th>      <th>P>|t|</th>  <th>[0.025</th>    <th>0.975]</th>  \n",
       "</tr>\n",
       "<tr>\n",
       "  <th>Intercept</th>               <td> 1.493e+04</td> <td> 5156.226</td> <td>    2.895</td> <td> 0.007</td> <td> 4365.921</td> <td> 2.55e+04</td>\n",
       "</tr>\n",
       "<tr>\n",
       "  <th>np.log(YearsExperience)</th> <td> 4.058e+04</td> <td> 3172.453</td> <td>   12.792</td> <td> 0.000</td> <td> 3.41e+04</td> <td> 4.71e+04</td>\n",
       "</tr>\n",
       "</table>\n",
       "<table class=\"simpletable\">\n",
       "<tr>\n",
       "  <th>Omnibus:</th>       <td> 1.094</td> <th>  Durbin-Watson:     </th> <td>   0.512</td>\n",
       "</tr>\n",
       "<tr>\n",
       "  <th>Prob(Omnibus):</th> <td> 0.579</td> <th>  Jarque-Bera (JB):  </th> <td>   0.908</td>\n",
       "</tr>\n",
       "<tr>\n",
       "  <th>Skew:</th>          <td> 0.156</td> <th>  Prob(JB):          </th> <td>   0.635</td>\n",
       "</tr>\n",
       "<tr>\n",
       "  <th>Kurtosis:</th>      <td> 2.207</td> <th>  Cond. No.          </th> <td>    5.76</td>\n",
       "</tr>\n",
       "</table><br/><br/>Notes:<br/>[1] Standard Errors assume that the covariance matrix of the errors is correctly specified."
      ],
      "text/plain": [
       "<class 'statsmodels.iolib.summary.Summary'>\n",
       "\"\"\"\n",
       "                            OLS Regression Results                            \n",
       "==============================================================================\n",
       "Dep. Variable:                 Salary   R-squared:                       0.854\n",
       "Model:                            OLS   Adj. R-squared:                  0.849\n",
       "Method:                 Least Squares   F-statistic:                     163.6\n",
       "Date:                Sat, 24 Sep 2022   Prob (F-statistic):           3.25e-13\n",
       "Time:                        16:56:10   Log-Likelihood:                -319.77\n",
       "No. Observations:                  30   AIC:                             643.5\n",
       "Df Residuals:                      28   BIC:                             646.3\n",
       "Df Model:                           1                                         \n",
       "Covariance Type:            nonrobust                                         \n",
       "===========================================================================================\n",
       "                              coef    std err          t      P>|t|      [0.025      0.975]\n",
       "-------------------------------------------------------------------------------------------\n",
       "Intercept                1.493e+04   5156.226      2.895      0.007    4365.921    2.55e+04\n",
       "np.log(YearsExperience)  4.058e+04   3172.453     12.792      0.000    3.41e+04    4.71e+04\n",
       "==============================================================================\n",
       "Omnibus:                        1.094   Durbin-Watson:                   0.512\n",
       "Prob(Omnibus):                  0.579   Jarque-Bera (JB):                0.908\n",
       "Skew:                           0.156   Prob(JB):                        0.635\n",
       "Kurtosis:                       2.207   Cond. No.                         5.76\n",
       "==============================================================================\n",
       "\n",
       "Notes:\n",
       "[1] Standard Errors assume that the covariance matrix of the errors is correctly specified.\n",
       "\"\"\""
      ]
     },
     "execution_count": 44,
     "metadata": {},
     "output_type": "execute_result"
    }
   ],
   "source": [
    "model2.summary()"
   ]
  },
  {
   "cell_type": "code",
   "execution_count": 45,
   "id": "7f69dcdf",
   "metadata": {},
   "outputs": [
    {
     "name": "stdout",
     "output_type": "stream",
     "text": [
      "                                    0             1\n",
      "Intercept                  679.965646  29175.977894\n",
      "np.log(YearsExperience)  31815.666558  49348.309362\n"
     ]
    }
   ],
   "source": [
    "print(model2.conf_int(0.01)) # 99% confidence level"
   ]
  },
  {
   "cell_type": "code",
   "execution_count": 46,
   "id": "5f1022bc",
   "metadata": {},
   "outputs": [],
   "source": [
    "pred2 = model2.predict(pd.DataFrame(data['YearsExperience']))"
   ]
  },
  {
   "cell_type": "code",
   "execution_count": 47,
   "id": "7af553e1",
   "metadata": {},
   "outputs": [
    {
     "data": {
      "text/plain": [
       "0.9240610817882637"
      ]
     },
     "execution_count": 47,
     "metadata": {},
     "output_type": "execute_result"
    }
   ],
   "source": [
    "pred2.corr(data.Salary)"
   ]
  },
  {
   "cell_type": "code",
   "execution_count": 48,
   "id": "884f487c",
   "metadata": {},
   "outputs": [
    {
     "data": {
      "text/plain": [
       "0      18795.848339\n",
       "1      25575.235192\n",
       "2      31382.551905\n",
       "3      43057.262306\n",
       "4      46925.138875\n",
       "5      58136.050079\n",
       "6      59511.842441\n",
       "7      62130.943929\n",
       "8      62130.943929\n",
       "9      68022.718504\n",
       "10     70159.105863\n",
       "11     71186.552842\n",
       "12     71186.552842\n",
       "13     72188.628149\n",
       "14     75966.422577\n",
       "15     79422.295729\n",
       "16     81045.791737\n",
       "17     82606.829882\n",
       "18     86959.066704\n",
       "19     87641.132977\n",
       "20     92720.502137\n",
       "21     94472.514696\n",
       "22     98805.371390\n",
       "23    100317.918684\n",
       "24    102719.920751\n",
       "25    104095.713112\n",
       "26    106289.868435\n",
       "27    106714.814600\n",
       "28    109571.007247\n",
       "29    110351.454145\n",
       "dtype: float64"
      ]
     },
     "execution_count": 48,
     "metadata": {},
     "output_type": "execute_result"
    }
   ],
   "source": [
    "# pred2 = model2.predict(data.iloc[:,0])\n",
    "pred2"
   ]
  },
  {
   "cell_type": "code",
   "execution_count": 49,
   "id": "1c3fd371",
   "metadata": {},
   "outputs": [
    {
     "data": {
      "text/plain": [
       "Text(0, 0.5, 'SALARY')"
      ]
     },
     "execution_count": 49,
     "metadata": {},
     "output_type": "execute_result"
    },
    {
     "data": {
      "image/png": "[encoded data removed]",
      "text/plain": [
       "<Figure size 432x288 with 1 Axes>"
      ]
     },
     "metadata": {
      "needs_background": "light"
     },
     "output_type": "display_data"
    }
   ],
   "source": [
    "plt.scatter(x=data['YearsExperience'],y=data['Salary'],color='green')\n",
    "plt.plot(data['YearsExperience'],pred2,color='blue')\n",
    "plt.xlabel('YEARS');plt.ylabel('SALARY')\n"
   ]
  },
  {
   "cell_type": "markdown",
   "id": "e36d2a32",
   "metadata": {},
   "source": [
    "# Exponential transformation"
   ]
  },
  {
   "cell_type": "code",
   "execution_count": 50,
   "id": "1dc2afff",
   "metadata": {},
   "outputs": [],
   "source": [
    "model3 = smf.ols('np.log(Salary)~YearsExperience',data=data).fit()"
   ]
  },
  {
   "cell_type": "code",
   "execution_count": 51,
   "id": "46be5086",
   "metadata": {},
   "outputs": [
    {
     "data": {
      "text/plain": [
       "Intercept          10.507402\n",
       "YearsExperience     0.125453\n",
       "dtype: float64"
      ]
     },
     "execution_count": 51,
     "metadata": {},
     "output_type": "execute_result"
    }
   ],
   "source": [
    "model3.params"
   ]
  },
  {
   "cell_type": "code",
   "execution_count": 52,
   "id": "34fe36cd",
   "metadata": {},
   "outputs": [
    {
     "data": {
      "text/html": [
       "<table class=\"simpletable\">\n",
       "<caption>OLS Regression Results</caption>\n",
       "<tr>\n",
       "  <th>Dep. Variable:</th>     <td>np.log(Salary)</td>  <th>  R-squared:         </th> <td>   0.932</td>\n",
       "</tr>\n",
       "<tr>\n",
       "  <th>Model:</th>                   <td>OLS</td>       <th>  Adj. R-squared:    </th> <td>   0.930</td>\n",
       "</tr>\n",
       "<tr>\n",
       "  <th>Method:</th>             <td>Least Squares</td>  <th>  F-statistic:       </th> <td>   383.6</td>\n",
       "</tr>\n",
       "<tr>\n",
       "  <th>Date:</th>             <td>Sat, 24 Sep 2022</td> <th>  Prob (F-statistic):</th> <td>7.03e-18</td>\n",
       "</tr>\n",
       "<tr>\n",
       "  <th>Time:</th>                 <td>16:58:38</td>     <th>  Log-Likelihood:    </th> <td>  28.183</td>\n",
       "</tr>\n",
       "<tr>\n",
       "  <th>No. Observations:</th>      <td>    30</td>      <th>  AIC:               </th> <td>  -52.37</td>\n",
       "</tr>\n",
       "<tr>\n",
       "  <th>Df Residuals:</th>          <td>    28</td>      <th>  BIC:               </th> <td>  -49.56</td>\n",
       "</tr>\n",
       "<tr>\n",
       "  <th>Df Model:</th>              <td>     1</td>      <th>                     </th>     <td> </td>   \n",
       "</tr>\n",
       "<tr>\n",
       "  <th>Covariance Type:</th>      <td>nonrobust</td>    <th>                     </th>     <td> </td>   \n",
       "</tr>\n",
       "</table>\n",
       "<table class=\"simpletable\">\n",
       "<tr>\n",
       "         <td></td>            <th>coef</th>     <th>std err</th>      <th>t</th>      <th>P>|t|</th>  <th>[0.025</th>    <th>0.975]</th>  \n",
       "</tr>\n",
       "<tr>\n",
       "  <th>Intercept</th>       <td>   10.5074</td> <td>    0.038</td> <td>  273.327</td> <td> 0.000</td> <td>   10.429</td> <td>   10.586</td>\n",
       "</tr>\n",
       "<tr>\n",
       "  <th>YearsExperience</th> <td>    0.1255</td> <td>    0.006</td> <td>   19.585</td> <td> 0.000</td> <td>    0.112</td> <td>    0.139</td>\n",
       "</tr>\n",
       "</table>\n",
       "<table class=\"simpletable\">\n",
       "<tr>\n",
       "  <th>Omnibus:</th>       <td> 0.826</td> <th>  Durbin-Watson:     </th> <td>   1.438</td>\n",
       "</tr>\n",
       "<tr>\n",
       "  <th>Prob(Omnibus):</th> <td> 0.661</td> <th>  Jarque-Bera (JB):  </th> <td>   0.812</td>\n",
       "</tr>\n",
       "<tr>\n",
       "  <th>Skew:</th>          <td> 0.187</td> <th>  Prob(JB):          </th> <td>   0.666</td>\n",
       "</tr>\n",
       "<tr>\n",
       "  <th>Kurtosis:</th>      <td> 2.286</td> <th>  Cond. No.          </th> <td>    13.2</td>\n",
       "</tr>\n",
       "</table><br/><br/>Notes:<br/>[1] Standard Errors assume that the covariance matrix of the errors is correctly specified."
      ],
      "text/plain": [
       "<class 'statsmodels.iolib.summary.Summary'>\n",
       "\"\"\"\n",
       "                            OLS Regression Results                            \n",
       "==============================================================================\n",
       "Dep. Variable:         np.log(Salary)   R-squared:                       0.932\n",
       "Model:                            OLS   Adj. R-squared:                  0.930\n",
       "Method:                 Least Squares   F-statistic:                     383.6\n",
       "Date:                Sat, 24 Sep 2022   Prob (F-statistic):           7.03e-18\n",
       "Time:                        16:58:38   Log-Likelihood:                 28.183\n",
       "No. Observations:                  30   AIC:                            -52.37\n",
       "Df Residuals:                      28   BIC:                            -49.56\n",
       "Df Model:                           1                                         \n",
       "Covariance Type:            nonrobust                                         \n",
       "===================================================================================\n",
       "                      coef    std err          t      P>|t|      [0.025      0.975]\n",
       "-----------------------------------------------------------------------------------\n",
       "Intercept          10.5074      0.038    273.327      0.000      10.429      10.586\n",
       "YearsExperience     0.1255      0.006     19.585      0.000       0.112       0.139\n",
       "==============================================================================\n",
       "Omnibus:                        0.826   Durbin-Watson:                   1.438\n",
       "Prob(Omnibus):                  0.661   Jarque-Bera (JB):                0.812\n",
       "Skew:                           0.187   Prob(JB):                        0.666\n",
       "Kurtosis:                       2.286   Cond. No.                         13.2\n",
       "==============================================================================\n",
       "\n",
       "Notes:\n",
       "[1] Standard Errors assume that the covariance matrix of the errors is correctly specified.\n",
       "\"\"\""
      ]
     },
     "execution_count": 52,
     "metadata": {},
     "output_type": "execute_result"
    }
   ],
   "source": [
    "model3.summary()"
   ]
  },
  {
   "cell_type": "code",
   "execution_count": 53,
   "id": "315cf189",
   "metadata": {},
   "outputs": [
    {
     "name": "stdout",
     "output_type": "stream",
     "text": [
      "                         0          1\n",
      "Intercept        10.401175  10.613629\n",
      "YearsExperience   0.107752   0.143153\n"
     ]
    }
   ],
   "source": [
    "print(model3.conf_int(0.01)) # 99% confidence level"
   ]
  },
  {
   "cell_type": "code",
   "execution_count": 54,
   "id": "fba303e6",
   "metadata": {},
   "outputs": [
    {
     "data": {
      "text/plain": [
       "0     10.645400\n",
       "1     10.670491\n",
       "2     10.695581\n",
       "3     10.758308\n",
       "4     10.783398\n",
       "5     10.871215\n",
       "6     10.883761\n",
       "7     10.908851\n",
       "8     10.908851\n",
       "9     10.971578\n",
       "10    10.996668\n",
       "11    11.009213\n",
       "12    11.009213\n",
       "13    11.021759\n",
       "14    11.071940\n",
       "15    11.122121\n",
       "16    11.147212\n",
       "17    11.172302\n",
       "18    11.247574\n",
       "19    11.260119\n",
       "20    11.360482\n",
       "21    11.398117\n",
       "22    11.498480\n",
       "23    11.536116\n",
       "24    11.598842\n",
       "25    11.636478\n",
       "26    11.699204\n",
       "27    11.711750\n",
       "28    11.799567\n",
       "29    11.824657\n",
       "dtype: float64"
      ]
     },
     "execution_count": 54,
     "metadata": {},
     "output_type": "execute_result"
    }
   ],
   "source": [
    "pred_log = model3.predict(pd.DataFrame(data['YearsExperience']))\n",
    "pred_log"
   ]
  },
  {
   "cell_type": "code",
   "execution_count": 55,
   "id": "c5d53372",
   "metadata": {},
   "outputs": [
    {
     "data": {
      "text/plain": [
       "0      41998.957468\n",
       "1      43066.066794\n",
       "2      44160.289228\n",
       "3      47019.029189\n",
       "4      48213.688474\n",
       "5      52639.142472\n",
       "6      53303.675386\n",
       "7      54658.014935\n",
       "8      54658.014935\n",
       "9      58196.330788\n",
       "10     59674.982903\n",
       "11     60428.338456\n",
       "12     60428.338456\n",
       "13     61191.204604\n",
       "14     64340.199291\n",
       "15     67651.246149\n",
       "16     69370.128712\n",
       "17     71132.684635\n",
       "18     76693.630780\n",
       "19     77661.835040\n",
       "20     85860.704208\n",
       "21     89153.725393\n",
       "22     98565.809591\n",
       "23    102346.110512\n",
       "24    108971.540758\n",
       "25    113150.933364\n",
       "26    120475.819601\n",
       "27    121996.743836\n",
       "28    133194.621344\n",
       "29    136578.829694\n",
       "dtype: float64"
      ]
     },
     "execution_count": 55,
     "metadata": {},
     "output_type": "execute_result"
    }
   ],
   "source": [
    "pred3=np.exp(pred_log)       # as we have used log(AT) in preparing model so we need to convert it back\n",
    "pred3"
   ]
  },
  {
   "cell_type": "code",
   "execution_count": 56,
   "id": "93993393",
   "metadata": {},
   "outputs": [
    {
     "data": {
      "text/plain": [
       "0.9660469705377085"
      ]
     },
     "execution_count": 56,
     "metadata": {},
     "output_type": "execute_result"
    }
   ],
   "source": [
    "pred3.corr(data.Salary)"
   ]
  },
  {
   "cell_type": "code",
   "execution_count": 59,
   "id": "3eeb3bb2",
   "metadata": {},
   "outputs": [
    {
     "data": {
      "image/png": "[encoded data removed]",
      "text/plain": [
       "<Figure size 432x288 with 1 Axes>"
      ]
     },
     "metadata": {
      "needs_background": "light"
     },
     "output_type": "display_data"
    }
   ],
   "source": [
    "plt.scatter(x=data['YearsExperience'],y=data['Salary'],color='green')\n",
    "plt.plot(data.YearsExperience,np.exp(pred_log),color='blue')\n",
    "plt.xlabel('YEARS');plt.ylabel('SALARY')\n",
    "resid_3 = pred3-data.Salary"
   ]
  },
  {
   "cell_type": "raw",
   "id": "23a38a8f",
   "metadata": {},
   "source": [
    "# so we will consider the model having highest R-Squared value which is the log transformation - model3"
   ]
  }
 ],
 "metadata": {
  "kernelspec": {
   "display_name": "Python 3 (ipykernel)",
   "language": "python",
   "name": "python3"
  },
  "language_info": {
   "codemirror_mode": {
    "name": "ipython",
    "version": 3
   },
   "file_extension": ".py",
   "mimetype": "text/x-python",
   "name": "python",
   "nbconvert_exporter": "python",
   "pygments_lexer": "ipython3",
   "version": "3.9.7"
  }
 },
 "nbformat": 4,
 "nbformat_minor": 5
}
